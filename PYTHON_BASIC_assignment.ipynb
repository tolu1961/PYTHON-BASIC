{
  "nbformat": 4,
  "nbformat_minor": 0,
  "metadata": {
    "colab": {
      "provenance": []
    },
    "kernelspec": {
      "name": "python3",
      "display_name": "Python 3"
    },
    "language_info": {
      "name": "python"
    }
  },
  "cells": [
    {
      "cell_type": "markdown",
      "source": [],
      "metadata": {
        "id": "5aGr-EHCD8x-"
      }
    },
    {
      "cell_type": "markdown",
      "source": [
        "##Python Basics Question\n"
      ],
      "metadata": {
        "id": "hJrazGZwX-9z"
      }
    },
    {
      "cell_type": "markdown",
      "source": [
        "1.What is Python, and why is it popular ?\n",
        "  -  Python is a powerful, easy to learn programming language that's why its is popular so much.\n",
        "\n",
        "   \n"
      ],
      "metadata": {
        "id": "MD8t6UdcYOI1"
      }
    },
    {
      "cell_type": "markdown",
      "source": [
        "2.What is an interpreter in Python ?\n",
        "  - Interpreter is the program that reads and executes python code line by line"
      ],
      "metadata": {
        "id": "ZBHfowpxYM8Y"
      }
    },
    {
      "cell_type": "markdown",
      "source": [
        "3.What are pre-defined keywords in       Python ?\n",
        "  - Pre-defined keywords in Python are special words that are reserved by the language because they have specific meanings and purposes.\n",
        "  Some Example\n",
        "  i.- if, else, elif – used in conditional statements\n",
        "\n",
        "\n"
      ],
      "metadata": {
        "id": "5wekiwc0ahSX"
      }
    },
    {
      "cell_type": "markdown",
      "source": [
        "4.Can keywords be used as variable names?\n",
        " - No,python keyword can't be used as variable names."
      ],
      "metadata": {
        "id": "IsCuI4F1bZAO"
      }
    },
    {
      "cell_type": "markdown",
      "source": [
        "5.What is mutability in Python?\n",
        " - Mutability in python refers to\n",
        "   weather or not an object can be change after it is created.\n"
      ],
      "metadata": {
        "id": "2a6lgBJjcErJ"
      }
    },
    {
      "cell_type": "markdown",
      "source": [
        "6.Why are lists mutable, but tuples are immutable?\n",
        " - >Designed for change : you can add, remove,or alter elements anytime.\n",
        "     Like looping through changing data , bulinding collection step by step.\n",
        "   >Once defined, the contents can not change.Python lock down.   "
      ],
      "metadata": {
        "id": "a9LFEUYldbtw"
      }
    },
    {
      "cell_type": "markdown",
      "source": [],
      "metadata": {
        "id": "z5x7zFASf--O"
      }
    },
    {
      "cell_type": "markdown",
      "source": [
        "7.What is the difference between “==”    and “is” operators in python?\n",
        " - \"==\" this symbol checks weather the\n",
        "    value are the same or not.\n",
        "  -  \"is\" this symbol checks weather two\n",
        "      reference point to the exact same\n",
        "      object memory.\n",
        "     \n",
        "     "
      ],
      "metadata": {
        "id": "8EsQlUcmgD37"
      }
    },
    {
      "cell_type": "markdown",
      "source": [
        "8.What are logical operators in Python?\n",
        " - Logical operators in python are used\n",
        "   to combine or modify boolean expres-\n",
        "   -sions, the kind that result in either\n",
        "    True or False.\n"
      ],
      "metadata": {
        "id": "aCvCtjLohvsb"
      }
    },
    {
      "cell_type": "markdown",
      "source": [
        "9.What is type casting in Python?\n",
        " - Type casting in python means          converting one data type into\n",
        " another - like turning a string\n",
        " into a number , or a Float into a\n",
        " integers."
      ],
      "metadata": {
        "id": "x60SEyitmomH"
      }
    },
    {
      "cell_type": "markdown",
      "source": [
        "10. What is the difference between implicit and explicit type casting ?\n",
        "   - Type casting in python is all about converting one data type to another and understanding **implicit vs explicit**casting helps you write safer,smarter code."
      ],
      "metadata": {
        "id": "0f2aZYdBng7U"
      }
    },
    {
      "cell_type": "markdown",
      "source": [
        "11.What is the purpose of conditional statements in Python?\n",
        "  - Conditional statement are the decision makers in your code they let python choose what to do based on certain conditions."
      ],
      "metadata": {
        "id": "uO8_yq5sA04H"
      }
    },
    {
      "cell_type": "markdown",
      "source": [
        "12. How does the elif statement work?\n",
        "  - The elif ststement is python way of saying that the statement is True or False."
      ],
      "metadata": {
        "id": "45zkCV7rBpvj"
      }
    },
    {
      "cell_type": "markdown",
      "source": [
        "13. What is the difference between for and while loops?\n",
        "  - The difference between for and while loops in python they are used to repat code."
      ],
      "metadata": {
        "id": "9oE9WcUiCr5S"
      }
    },
    {
      "cell_type": "markdown",
      "source": [
        "14.Describe a scenario where a while loop is more suitable than a for loop?\n",
        "  -"
      ],
      "metadata": {
        "id": "rLXAunzxDTFn"
      }
    },
    {
      "cell_type": "markdown",
      "source": [],
      "metadata": {
        "id": "SMjvrETAD54t"
      }
    },
    {
      "cell_type": "markdown",
      "source": [
        "# **Practical Questions**"
      ],
      "metadata": {
        "id": "bM36W6dKEL93"
      }
    },
    {
      "cell_type": "code",
      "source": [
        "1. # Write a Python program to print \"Hello, World!y?\n",
        "print(\"hello world\")"
      ],
      "metadata": {
        "id": "BUbePG9BcD-B",
        "colab": {
          "base_uri": "https://localhost:8080/"
        },
        "outputId": "9ded4625-f06d-4d23-8b7a-4599d99c50b3"
      },
      "execution_count": null,
      "outputs": [
        {
          "output_type": "stream",
          "name": "stdout",
          "text": [
            "hello world\n"
          ]
        }
      ]
    },
    {
      "cell_type": "code",
      "source": [
        "2. # Write a Python program that displays your name and age.\n",
        "name = \"Aditya kumar\"\n",
        "age = \"23\"\n",
        "print(f\"my_name is {name} and i am {age} year olds\")"
      ],
      "metadata": {
        "colab": {
          "base_uri": "https://localhost:8080/"
        },
        "id": "86p1BgQHG9Lr",
        "outputId": "7f7fdd47-b3db-4f16-cba3-3efce04b36ef"
      },
      "execution_count": null,
      "outputs": [
        {
          "output_type": "stream",
          "name": "stdout",
          "text": [
            "my_name is Aditya kumar and i am 23 year olds\n"
          ]
        }
      ]
    },
    {
      "cell_type": "code",
      "source": [
        "3. # Write code to print all the pre-defined keywords in Python using the keyword library.\n",
        "help(\"keywords\")"
      ],
      "metadata": {
        "colab": {
          "base_uri": "https://localhost:8080/"
        },
        "id": "CPQa7xckH6MH",
        "outputId": "4369fdef-1de9-43a7-fb67-ff3c122e48b7"
      },
      "execution_count": null,
      "outputs": [
        {
          "output_type": "stream",
          "name": "stdout",
          "text": [
            "\n",
            "Here is a list of the Python keywords.  Enter any keyword to get more help.\n",
            "\n",
            "False               class               from                or\n",
            "None                continue            global              pass\n",
            "True                def                 if                  raise\n",
            "and                 del                 import              return\n",
            "as                  elif                in                  try\n",
            "assert              else                is                  while\n",
            "async               except              lambda              with\n",
            "await               finally             nonlocal            yield\n",
            "break               for                 not                 \n",
            "\n"
          ]
        }
      ]
    },
    {
      "cell_type": "code",
      "source": [
        "4. # Write a program that checks if a given word is a Python keyword.\n",
        "import keyword\n",
        "keyword.iskeyword(\"if\")"
      ],
      "metadata": {
        "colab": {
          "base_uri": "https://localhost:8080/"
        },
        "id": "_eKPbB1bI667",
        "outputId": "795d521c-e0a2-4f14-a99c-347b9fba3d6d"
      },
      "execution_count": null,
      "outputs": [
        {
          "output_type": "execute_result",
          "data": {
            "text/plain": [
              "True"
            ]
          },
          "metadata": {},
          "execution_count": 13
        }
      ]
    },
    {
      "cell_type": "code",
      "source": [
        "5. #  Create a list and tuple in Python, and demonstrate how attempting to change an element works differently for each.\n",
        "# List (mutable)\n",
        "my_list = [1,2,3]\n",
        "#Tuple (immutable)\n",
        "my_tuple = (1,2,3)"
      ],
      "metadata": {
        "id": "_64Z_OwWJOR2"
      },
      "execution_count": null,
      "outputs": []
    },
    {
      "cell_type": "code",
      "source": [
        "#Modifing the list\n",
        "my_list[2]=4\n",
        "print(\"modified\",my_list)"
      ],
      "metadata": {
        "colab": {
          "base_uri": "https://localhost:8080/"
        },
        "id": "F1uiZbsgKezc",
        "outputId": "07ffb6de-d18f-457c-8b8c-6b647b584950"
      },
      "execution_count": null,
      "outputs": [
        {
          "output_type": "stream",
          "name": "stdout",
          "text": [
            "modified [1, 2, 4]\n"
          ]
        }
      ]
    },
    {
      "cell_type": "code",
      "source": [
        "my_tuple[1]=99\n",
        "print(\"modified\",my_tuple) #this will raise error"
      ],
      "metadata": {
        "colab": {
          "base_uri": "https://localhost:8080/",
          "height": 158
        },
        "id": "VyPZ6bZLK5Ox",
        "outputId": "7c2bfe99-7b0f-4fca-dd12-4be9dcff890e"
      },
      "execution_count": null,
      "outputs": [
        {
          "output_type": "error",
          "ename": "TypeError",
          "evalue": "'tuple' object does not support item assignment",
          "traceback": [
            "\u001b[0;31m---------------------------------------------------------------------------\u001b[0m",
            "\u001b[0;31mTypeError\u001b[0m                                 Traceback (most recent call last)",
            "\u001b[0;32m/tmp/ipython-input-22-3800713699.py\u001b[0m in \u001b[0;36m<cell line: 0>\u001b[0;34m()\u001b[0m\n\u001b[0;32m----> 1\u001b[0;31m \u001b[0mmy_tuple\u001b[0m\u001b[0;34m[\u001b[0m\u001b[0;36m1\u001b[0m\u001b[0;34m]\u001b[0m\u001b[0;34m=\u001b[0m\u001b[0;36m99\u001b[0m\u001b[0;34m\u001b[0m\u001b[0;34m\u001b[0m\u001b[0m\n\u001b[0m\u001b[1;32m      2\u001b[0m \u001b[0mprint\u001b[0m\u001b[0;34m(\u001b[0m\u001b[0;34m\"modified\"\u001b[0m\u001b[0;34m,\u001b[0m\u001b[0mmy_tuple\u001b[0m\u001b[0;34m)\u001b[0m \u001b[0;31m#this will raise error\u001b[0m\u001b[0;34m\u001b[0m\u001b[0;34m\u001b[0m\u001b[0m\n",
            "\u001b[0;31mTypeError\u001b[0m: 'tuple' object does not support item assignment"
          ]
        }
      ]
    },
    {
      "cell_type": "code",
      "source": [
        "6.# Write a function to demonstrate the behavior of mutable and immutable arguments.\n",
        "list_cont = [1,2,3,4.3,3+5j,True,\"tolu\"]\n",
        "list_cont\n"
      ],
      "metadata": {
        "id": "m5_7gn6nL1MA",
        "colab": {
          "base_uri": "https://localhost:8080/"
        },
        "outputId": "aaceb525-3c20-4e5b-afb0-7e933470575a"
      },
      "execution_count": null,
      "outputs": [
        {
          "output_type": "execute_result",
          "data": {
            "text/plain": [
              "[1, 2, 3, 4.3, (3+5j), True, 'tolu']"
            ]
          },
          "metadata": {},
          "execution_count": 3
        }
      ]
    },
    {
      "cell_type": "code",
      "source": [
        "list_cont[0]"
      ],
      "metadata": {
        "colab": {
          "base_uri": "https://localhost:8080/"
        },
        "id": "HVDoq1C0lP62",
        "outputId": "70526d46-34ef-4e0b-9825-aaf19fb51afb"
      },
      "execution_count": null,
      "outputs": [
        {
          "output_type": "execute_result",
          "data": {
            "text/plain": [
              "1"
            ]
          },
          "metadata": {},
          "execution_count": 4
        }
      ]
    },
    {
      "cell_type": "code",
      "source": [
        "list_cont[4]"
      ],
      "metadata": {
        "colab": {
          "base_uri": "https://localhost:8080/"
        },
        "id": "Ej_wulx5lrGy",
        "outputId": "f84048e8-fb58-4851-a35e-f58d3517d810"
      },
      "execution_count": null,
      "outputs": [
        {
          "output_type": "execute_result",
          "data": {
            "text/plain": [
              "(3+5j)"
            ]
          },
          "metadata": {},
          "execution_count": 5
        }
      ]
    },
    {
      "cell_type": "code",
      "source": [
        "type(list_cont)"
      ],
      "metadata": {
        "colab": {
          "base_uri": "https://localhost:8080/"
        },
        "id": "4CrlFMO0lwEb",
        "outputId": "d76b1d46-28e4-436a-bf33-32318489bf67"
      },
      "execution_count": null,
      "outputs": [
        {
          "output_type": "execute_result",
          "data": {
            "text/plain": [
              "list"
            ]
          },
          "metadata": {},
          "execution_count": 6
        }
      ]
    },
    {
      "cell_type": "code",
      "source": [
        "list_cont[-1]"
      ],
      "metadata": {
        "colab": {
          "base_uri": "https://localhost:8080/",
          "height": 36
        },
        "id": "ZQPNf3HYl5A1",
        "outputId": "8c031e3e-ae31-487c-f116-bdee2221bc8f"
      },
      "execution_count": null,
      "outputs": [
        {
          "output_type": "execute_result",
          "data": {
            "text/plain": [
              "'tolu'"
            ],
            "application/vnd.google.colaboratory.intrinsic+json": {
              "type": "string"
            }
          },
          "metadata": {},
          "execution_count": 7
        }
      ]
    },
    {
      "cell_type": "code",
      "source": [
        "#mutability\n",
        "list_cont[6]=\"aadi\""
      ],
      "metadata": {
        "id": "zc4n-72SmFoH"
      },
      "execution_count": null,
      "outputs": []
    },
    {
      "cell_type": "code",
      "source": [
        "list_cont"
      ],
      "metadata": {
        "colab": {
          "base_uri": "https://localhost:8080/"
        },
        "id": "0suFtxALmU6T",
        "outputId": "0b033d5d-246d-43ca-e3e4-f4b5065711fb"
      },
      "execution_count": null,
      "outputs": [
        {
          "output_type": "execute_result",
          "data": {
            "text/plain": [
              "[1, 2, 3, 4.3, (3+5j), True, 'aadi']"
            ]
          },
          "metadata": {},
          "execution_count": 9
        }
      ]
    },
    {
      "cell_type": "code",
      "source": [
        "7. #  Write a program that performs basic arithmetic operations on two user-input numbers.\n",
        "num1=234\n",
        "num2=2345\n",
        "print(f\"add{num1+num2}\")\n",
        "print(f\"sub{num1-num2}\")\n",
        "print(f\"mul{num1*num2}\")\n",
        "print(f\"div{num1/num2}\")"
      ],
      "metadata": {
        "colab": {
          "base_uri": "https://localhost:8080/"
        },
        "id": "IE60y7RvnjAX",
        "outputId": "3c168d5b-bb1a-4e1a-c37a-b3dd218be7ed"
      },
      "execution_count": null,
      "outputs": [
        {
          "output_type": "stream",
          "name": "stdout",
          "text": [
            "add2579\n",
            "sub-2111\n",
            "mul548730\n",
            "div0.0997867803837953\n"
          ]
        }
      ]
    },
    {
      "cell_type": "code",
      "source": [
        "8. # Write a program to demonstrate the use of logical operators.\n",
        "a = True\n",
        "b = False"
      ],
      "metadata": {
        "id": "gvVTIx8lo_8B"
      },
      "execution_count": null,
      "outputs": []
    },
    {
      "cell_type": "code",
      "source": [
        "a and b"
      ],
      "metadata": {
        "colab": {
          "base_uri": "https://localhost:8080/"
        },
        "id": "_3RQaUOIpZy9",
        "outputId": "bad517df-900c-4e2c-a8dd-d1c7f73a2df1"
      },
      "execution_count": null,
      "outputs": [
        {
          "output_type": "execute_result",
          "data": {
            "text/plain": [
              "False"
            ]
          },
          "metadata": {},
          "execution_count": 14
        }
      ]
    },
    {
      "cell_type": "code",
      "source": [
        "a or b"
      ],
      "metadata": {
        "colab": {
          "base_uri": "https://localhost:8080/"
        },
        "id": "9sHrmWmypbJm",
        "outputId": "d2aa380a-76a4-4c46-c444-62df89e5f7d1"
      },
      "execution_count": null,
      "outputs": [
        {
          "output_type": "execute_result",
          "data": {
            "text/plain": [
              "True"
            ]
          },
          "metadata": {},
          "execution_count": 15
        }
      ]
    },
    {
      "cell_type": "code",
      "source": [
        "not(a)"
      ],
      "metadata": {
        "colab": {
          "base_uri": "https://localhost:8080/"
        },
        "id": "h_WEbW5JpeVb",
        "outputId": "8fd62e60-dbf2-4224-f779-fdaa6199778c"
      },
      "execution_count": null,
      "outputs": [
        {
          "output_type": "execute_result",
          "data": {
            "text/plain": [
              "False"
            ]
          },
          "metadata": {},
          "execution_count": 16
        }
      ]
    },
    {
      "cell_type": "code",
      "source": [
        "9. #  Write a Python program to convert user input from string to integer, float, and boolean types.\n",
        "#get user input as a string\n",
        "user_input = input(\"enter value:\")\n",
        "# Convert to integer\n",
        "try:\n",
        "    int_value = int(user_input)\n",
        "    print(\"integer value:\", int_value)\n",
        "except ValueError:\n",
        "    print(\"Cannot convert input to integer.\")\n",
        "#convert to float\n",
        "try:\n",
        "    float_value = float(user_input)\n",
        "    print(\"float value:\", float_value)\n",
        "except ValueError:\n",
        "    print(\"Cannot convert input to float.\")\n",
        "#convert to boolean\n",
        "# In python, any non-empty string is true except for the string \"False\" (case-sensitive)\n",
        "bool_value = user_input.lower() not in ('false', '0', '')\n",
        "print(\"boolean value:\", bool_value)"
      ],
      "metadata": {
        "id": "Z1KKJAdVpiIn",
        "colab": {
          "base_uri": "https://localhost:8080/"
        },
        "outputId": "698d4ab4-db19-437c-dda8-19bd78631aa1"
      },
      "execution_count": null,
      "outputs": [
        {
          "output_type": "stream",
          "name": "stdout",
          "text": [
            "enter value:3\n",
            "integer value: 3\n",
            "float value: 3.0\n",
            "boolean value: True\n"
          ]
        }
      ]
    },
    {
      "cell_type": "code",
      "source": [
        "10. #  Write code to demonstrate type casting with list element.\n",
        "string_num =[\"10\",\"22\",\"35\",\"85\"]\n",
        "int_num =[int(num) for num in string_num]\n",
        "float_num = [float(num) for num in string_num]\n",
        "bool_num = [bool(num) for num in string_num]\n",
        "print(\"original list (string):\", string_num)\n",
        "print(\"converted to integer:\", int_num)\n",
        "print(\"converted to float:\",float_num)\n",
        "print(\"converted to boolean:\",bool_num)"
      ],
      "metadata": {
        "id": "TDdoeILJr2Cy",
        "colab": {
          "base_uri": "https://localhost:8080/"
        },
        "outputId": "d82b767d-bed7-4bc1-ab37-8b99ce7eefce"
      },
      "execution_count": 2,
      "outputs": [
        {
          "output_type": "stream",
          "name": "stdout",
          "text": [
            "original list (string): ['10', '22', '35', '85']\n",
            "converted to integer: [10, 22, 35, 85]\n",
            "converted to float: [10.0, 22.0, 35.0, 85.0]\n",
            "converted to boolean: [True, True, True, True]\n"
          ]
        }
      ]
    },
    {
      "cell_type": "code",
      "source": [
        "11. # Write a program that checks if a number is positive, negative, or zero.\n",
        "num = float(input(\"enter a number:\"))\n",
        "if num > 20:\n",
        "    print(\"positive number\")\n",
        "elif num < 50:\n",
        "    print(\"negative number\")\n",
        "else:\n",
        "    print(\"zero\")"
      ],
      "metadata": {
        "id": "FkP7FXP90BTV",
        "colab": {
          "base_uri": "https://localhost:8080/"
        },
        "outputId": "28e17e59-eb13-4d93-9bf6-53d246c19835"
      },
      "execution_count": 7,
      "outputs": [
        {
          "output_type": "stream",
          "name": "stdout",
          "text": [
            "enter a number:10\n",
            "negative number\n"
          ]
        }
      ]
    },
    {
      "cell_type": "code",
      "source": [
        "12. #  Write a for loop to print numbers from 1 to 10.\n",
        "list(range(1,11))"
      ],
      "metadata": {
        "colab": {
          "base_uri": "https://localhost:8080/"
        },
        "id": "QTbO902uZvd1",
        "outputId": "25ceb516-0fd1-4f3b-da03-608716e89d71"
      },
      "execution_count": 10,
      "outputs": [
        {
          "output_type": "execute_result",
          "data": {
            "text/plain": [
              "[1, 2, 3, 4, 5, 6, 7, 8, 9, 10]"
            ]
          },
          "metadata": {},
          "execution_count": 10
        }
      ]
    },
    {
      "cell_type": "code",
      "source": [
        "13. # Write a Python program to find the sum of all even numbers between 1 and 50.\n",
        "total = 0\n",
        "for a in (range(1,51)):\n",
        "  if a % 2 == 0:\n",
        "    total += a\n",
        "\n",
        "print(\"the sum of even numbers from 1 to 50 is :\",total)"
      ],
      "metadata": {
        "colab": {
          "base_uri": "https://localhost:8080/"
        },
        "id": "WZX7mR4laUNi",
        "outputId": "924e670e-bf08-4871-d062-099f783c4eb3"
      },
      "execution_count": 12,
      "outputs": [
        {
          "output_type": "stream",
          "name": "stdout",
          "text": [
            "the sum of even numbers from 1 to 50 is : 650\n"
          ]
        }
      ]
    },
    {
      "cell_type": "code",
      "source": [
        "14. #"
      ],
      "metadata": {
        "id": "3a3qlY_AbWqQ"
      },
      "execution_count": null,
      "outputs": []
    }
  ]
}